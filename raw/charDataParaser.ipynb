{
 "cells": [
  {
   "cell_type": "code",
   "execution_count": 27,
   "metadata": {
    "collapsed": true
   },
   "outputs": [],
   "source": [
    "data = \"\"\"\n",
    "ユッセ城\t杖\t6\t平\t1.15\t1.15\t1.15\t3.45\n",
    "シュノンソー城\t杖\t6\t平水\t1.12\t1.17\t1.16\t3.45\n",
    "シュノンソー城[改壱]\t杖\t7\t平水\t1.19\t1.21\t1.20\t3.60\n",
    "プラハ城\t杖\t7\t平山\t1.17\t1.23\t1.20\t3.60\n",
    "ﾎｰｴﾝｻﾞﾙﾂﾌﾞﾙｸ城\t杖\t6\t平山\t1.20\t1.12\t1.13\t3.45\n",
    "ｱｲﾘｰﾝ・ﾄﾞﾅﾝ城\t杖\t4\t水\t1.07\t1.01\t1.07\t3.15\n",
    "\"\"\""
   ]
  },
  {
   "cell_type": "code",
   "execution_count": 28,
   "metadata": {
    "collapsed": false
   },
   "outputs": [
    {
     "name": "stdout",
     "output_type": "stream",
     "text": [
      "\t\t<[]>\n",
      "\t\t<[ユッセ城\t杖\t6\t平\t1.15\t1.15\t1.15\t3.45]>\n",
      "\t\t<[シュノンソー城\t杖\t6\t平水\t1.12\t1.17\t1.16\t3.45]>\n",
      "\t\t<[シュノンソー城[改壱]\t杖\t7\t平水\t1.19\t1.21\t1.20\t3.60]>\n",
      "\t\t<[プラハ城\t杖\t7\t平山\t1.17\t1.23\t1.20\t3.60]>\n",
      "\t\t<[ﾎｰｴﾝｻﾞﾙﾂﾌﾞﾙｸ城\t杖\t6\t平山\t1.20\t1.12\t1.13\t3.45]>\n",
      "\t\t<[ｱｲﾘｰﾝ・ﾄﾞﾅﾝ城\t杖\t4\t水\t1.07\t1.01\t1.07\t3.15]>\n"
     ]
    }
   ],
   "source": [
    "for line in data.splitlines():\n",
    "    line = line.strip()\n",
    "    print(\"\\t\\t<[\" + line + \"]>\")"
   ]
  }
 ],
 "metadata": {
  "kernelspec": {
   "display_name": "Python 3",
   "language": "python",
   "name": "python3"
  },
  "language_info": {
   "codemirror_mode": {
    "name": "ipython",
    "version": 3
   },
   "file_extension": ".py",
   "mimetype": "text/x-python",
   "name": "python",
   "nbconvert_exporter": "python",
   "pygments_lexer": "ipython3",
   "version": "3.6.0"
  }
 },
 "nbformat": 4,
 "nbformat_minor": 2
}
